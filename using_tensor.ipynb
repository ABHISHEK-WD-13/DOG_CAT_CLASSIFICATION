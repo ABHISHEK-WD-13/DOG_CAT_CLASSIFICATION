{
 "metadata": {
  "language_info": {
   "codemirror_mode": {
    "name": "ipython",
    "version": 3
   },
   "file_extension": ".py",
   "mimetype": "text/x-python",
   "name": "python",
   "nbconvert_exporter": "python",
   "pygments_lexer": "ipython3",
   "version": "3.8.5-final"
  },
  "orig_nbformat": 2,
  "kernelspec": {
   "name": "python3",
   "display_name": "Python 3.8.5 64-bit ('env_tensor')",
   "metadata": {
    "interpreter": {
     "hash": "1cbdb2b6efcf97a513d51a3c7f14c02e7c4393e31d818d9ecfc7dcfd8555278a"
    }
   }
  }
 },
 "nbformat": 4,
 "nbformat_minor": 2,
 "cells": [
  {
   "cell_type": "code",
   "execution_count": 1,
   "metadata": {},
   "outputs": [],
   "source": [
    "import tensorflow as tf"
   ]
  },
  {
   "cell_type": "code",
   "execution_count": 2,
   "metadata": {},
   "outputs": [],
   "source": [
    "model =tf.keras.Sequential()"
   ]
  },
  {
   "cell_type": "code",
   "execution_count": 3,
   "metadata": {},
   "outputs": [
    {
     "output_type": "stream",
     "name": "stdout",
     "text": [
      "<tensorflow.python.keras.engine.sequential.Sequential object at 0x7f827ccd6190>\n"
     ]
    }
   ],
   "source": [
    "print(model)"
   ]
  },
  {
   "cell_type": "code",
   "execution_count": 4,
   "metadata": {},
   "outputs": [],
   "source": [
    "from tensorflow import keras\n",
    "(x_train , y_train) ,(x_test,y_test)=keras.datasets.fashion_mnist.load_data()"
   ]
  },
  {
   "cell_type": "code",
   "execution_count": 5,
   "metadata": {},
   "outputs": [
    {
     "output_type": "execute_result",
     "data": {
      "text/plain": [
       "<matplotlib.image.AxesImage at 0x7f82246d2790>"
      ]
     },
     "metadata": {},
     "execution_count": 5
    },
    {
     "output_type": "display_data",
     "data": {
      "text/plain": "<Figure size 432x288 with 1 Axes>",
      "image/svg+xml": "<?xml version=\"1.0\" encoding=\"utf-8\" standalone=\"no\"?>\n<!DOCTYPE svg PUBLIC \"-//W3C//DTD SVG 1.1//EN\"\n  \"http://www.w3.org/Graphics/SVG/1.1/DTD/svg11.dtd\">\n<!-- Created with matplotlib (https://matplotlib.org/) -->\n<svg height=\"248.518125pt\" version=\"1.1\" viewBox=\"0 0 251.565 248.518125\" width=\"251.565pt\" xmlns=\"http://www.w3.org/2000/svg\" xmlns:xlink=\"http://www.w3.org/1999/xlink\">\n <metadata>\n  <rdf:RDF xmlns:cc=\"http://creativecommons.org/ns#\" xmlns:dc=\"http://purl.org/dc/elements/1.1/\" xmlns:rdf=\"http://www.w3.org/1999/02/22-rdf-syntax-ns#\">\n   <cc:Work>\n    <dc:type rdf:resource=\"http://purl.org/dc/dcmitype/StillImage\"/>\n    <dc:date>2020-12-19T12:41:08.008872</dc:date>\n    <dc:format>image/svg+xml</dc:format>\n    <dc:creator>\n     <cc:Agent>\n      <dc:title>Matplotlib v3.3.3, https://matplotlib.org/</dc:title>\n     </cc:Agent>\n    </dc:creator>\n   </cc:Work>\n  </rdf:RDF>\n </metadata>\n <defs>\n  <style type=\"text/css\">*{stroke-linecap:butt;stroke-linejoin:round;}</style>\n </defs>\n <g id=\"figure_1\">\n  <g id=\"patch_1\">\n   <path d=\"M 0 248.518125 \nL 251.565 248.518125 \nL 251.565 0 \nL 0 0 \nz\n\" style=\"fill:none;\"/>\n  </g>\n  <g id=\"axes_1\">\n   <g id=\"patch_2\">\n    <path d=\"M 26.925 224.64 \nL 244.365 224.64 \nL 244.365 7.2 \nL 26.925 7.2 \nz\n\" style=\"fill:#ffffff;\"/>\n   </g>\n   <g clip-path=\"url(#p90e8f3befa)\">\n    <image height=\"218\" id=\"imagea6ecd26c92\" transform=\"scale(1 -1)translate(0 -218)\" width=\"218\" x=\"26.925\" xlink:href=\"data:image/png;base64,\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\" y=\"-6.64\"/>\n   </g>\n   <g id=\"matplotlib.axis_1\">\n    <g id=\"xtick_1\">\n     <g id=\"line2d_1\">\n      <defs>\n       <path d=\"M 0 0 \nL 0 3.5 \n\" id=\"ma356421bf8\" style=\"stroke:#000000;stroke-width:0.8;\"/>\n      </defs>\n      <g>\n       <use style=\"stroke:#000000;stroke-width:0.8;\" x=\"30.807857\" xlink:href=\"#ma356421bf8\" y=\"224.64\"/>\n      </g>\n     </g>\n     <g id=\"text_1\">\n      <!-- 0 -->\n      <g transform=\"translate(27.626607 239.238437)scale(0.1 -0.1)\">\n       <defs>\n        <path d=\"M 31.78125 66.40625 \nQ 24.171875 66.40625 20.328125 58.90625 \nQ 16.5 51.421875 16.5 36.375 \nQ 16.5 21.390625 20.328125 13.890625 \nQ 24.171875 6.390625 31.78125 6.390625 \nQ 39.453125 6.390625 43.28125 13.890625 \nQ 47.125 21.390625 47.125 36.375 \nQ 47.125 51.421875 43.28125 58.90625 \nQ 39.453125 66.40625 31.78125 66.40625 \nz\nM 31.78125 74.21875 \nQ 44.046875 74.21875 50.515625 64.515625 \nQ 56.984375 54.828125 56.984375 36.375 \nQ 56.984375 17.96875 50.515625 8.265625 \nQ 44.046875 -1.421875 31.78125 -1.421875 \nQ 19.53125 -1.421875 13.0625 8.265625 \nQ 6.59375 17.96875 6.59375 36.375 \nQ 6.59375 54.828125 13.0625 64.515625 \nQ 19.53125 74.21875 31.78125 74.21875 \nz\n\" id=\"DejaVuSans-48\"/>\n       </defs>\n       <use xlink:href=\"#DejaVuSans-48\"/>\n      </g>\n     </g>\n    </g>\n    <g id=\"xtick_2\">\n     <g id=\"line2d_2\">\n      <g>\n       <use style=\"stroke:#000000;stroke-width:0.8;\" x=\"69.636429\" xlink:href=\"#ma356421bf8\" y=\"224.64\"/>\n      </g>\n     </g>\n     <g id=\"text_2\">\n      <!-- 5 -->\n      <g transform=\"translate(66.455179 239.238437)scale(0.1 -0.1)\">\n       <defs>\n        <path d=\"M 10.796875 72.90625 \nL 49.515625 72.90625 \nL 49.515625 64.59375 \nL 19.828125 64.59375 \nL 19.828125 46.734375 \nQ 21.96875 47.46875 24.109375 47.828125 \nQ 26.265625 48.1875 28.421875 48.1875 \nQ 40.625 48.1875 47.75 41.5 \nQ 54.890625 34.8125 54.890625 23.390625 \nQ 54.890625 11.625 47.5625 5.09375 \nQ 40.234375 -1.421875 26.90625 -1.421875 \nQ 22.3125 -1.421875 17.546875 -0.640625 \nQ 12.796875 0.140625 7.71875 1.703125 \nL 7.71875 11.625 \nQ 12.109375 9.234375 16.796875 8.0625 \nQ 21.484375 6.890625 26.703125 6.890625 \nQ 35.15625 6.890625 40.078125 11.328125 \nQ 45.015625 15.765625 45.015625 23.390625 \nQ 45.015625 31 40.078125 35.4375 \nQ 35.15625 39.890625 26.703125 39.890625 \nQ 22.75 39.890625 18.8125 39.015625 \nQ 14.890625 38.140625 10.796875 36.28125 \nz\n\" id=\"DejaVuSans-53\"/>\n       </defs>\n       <use xlink:href=\"#DejaVuSans-53\"/>\n      </g>\n     </g>\n    </g>\n    <g id=\"xtick_3\">\n     <g id=\"line2d_3\">\n      <g>\n       <use style=\"stroke:#000000;stroke-width:0.8;\" x=\"108.465\" xlink:href=\"#ma356421bf8\" y=\"224.64\"/>\n      </g>\n     </g>\n     <g id=\"text_3\">\n      <!-- 10 -->\n      <g transform=\"translate(102.1025 239.238437)scale(0.1 -0.1)\">\n       <defs>\n        <path d=\"M 12.40625 8.296875 \nL 28.515625 8.296875 \nL 28.515625 63.921875 \nL 10.984375 60.40625 \nL 10.984375 69.390625 \nL 28.421875 72.90625 \nL 38.28125 72.90625 \nL 38.28125 8.296875 \nL 54.390625 8.296875 \nL 54.390625 0 \nL 12.40625 0 \nz\n\" id=\"DejaVuSans-49\"/>\n       </defs>\n       <use xlink:href=\"#DejaVuSans-49\"/>\n       <use x=\"63.623047\" xlink:href=\"#DejaVuSans-48\"/>\n      </g>\n     </g>\n    </g>\n    <g id=\"xtick_4\">\n     <g id=\"line2d_4\">\n      <g>\n       <use style=\"stroke:#000000;stroke-width:0.8;\" x=\"147.293571\" xlink:href=\"#ma356421bf8\" y=\"224.64\"/>\n      </g>\n     </g>\n     <g id=\"text_4\">\n      <!-- 15 -->\n      <g transform=\"translate(140.931071 239.238437)scale(0.1 -0.1)\">\n       <use xlink:href=\"#DejaVuSans-49\"/>\n       <use x=\"63.623047\" xlink:href=\"#DejaVuSans-53\"/>\n      </g>\n     </g>\n    </g>\n    <g id=\"xtick_5\">\n     <g id=\"line2d_5\">\n      <g>\n       <use style=\"stroke:#000000;stroke-width:0.8;\" x=\"186.122143\" xlink:href=\"#ma356421bf8\" y=\"224.64\"/>\n      </g>\n     </g>\n     <g id=\"text_5\">\n      <!-- 20 -->\n      <g transform=\"translate(179.759643 239.238437)scale(0.1 -0.1)\">\n       <defs>\n        <path d=\"M 19.1875 8.296875 \nL 53.609375 8.296875 \nL 53.609375 0 \nL 7.328125 0 \nL 7.328125 8.296875 \nQ 12.9375 14.109375 22.625 23.890625 \nQ 32.328125 33.6875 34.8125 36.53125 \nQ 39.546875 41.84375 41.421875 45.53125 \nQ 43.3125 49.21875 43.3125 52.78125 \nQ 43.3125 58.59375 39.234375 62.25 \nQ 35.15625 65.921875 28.609375 65.921875 \nQ 23.96875 65.921875 18.8125 64.3125 \nQ 13.671875 62.703125 7.8125 59.421875 \nL 7.8125 69.390625 \nQ 13.765625 71.78125 18.9375 73 \nQ 24.125 74.21875 28.421875 74.21875 \nQ 39.75 74.21875 46.484375 68.546875 \nQ 53.21875 62.890625 53.21875 53.421875 \nQ 53.21875 48.921875 51.53125 44.890625 \nQ 49.859375 40.875 45.40625 35.40625 \nQ 44.1875 33.984375 37.640625 27.21875 \nQ 31.109375 20.453125 19.1875 8.296875 \nz\n\" id=\"DejaVuSans-50\"/>\n       </defs>\n       <use xlink:href=\"#DejaVuSans-50\"/>\n       <use x=\"63.623047\" xlink:href=\"#DejaVuSans-48\"/>\n      </g>\n     </g>\n    </g>\n    <g id=\"xtick_6\">\n     <g id=\"line2d_6\">\n      <g>\n       <use style=\"stroke:#000000;stroke-width:0.8;\" x=\"224.950714\" xlink:href=\"#ma356421bf8\" y=\"224.64\"/>\n      </g>\n     </g>\n     <g id=\"text_6\">\n      <!-- 25 -->\n      <g transform=\"translate(218.588214 239.238437)scale(0.1 -0.1)\">\n       <use xlink:href=\"#DejaVuSans-50\"/>\n       <use x=\"63.623047\" xlink:href=\"#DejaVuSans-53\"/>\n      </g>\n     </g>\n    </g>\n   </g>\n   <g id=\"matplotlib.axis_2\">\n    <g id=\"ytick_1\">\n     <g id=\"line2d_7\">\n      <defs>\n       <path d=\"M 0 0 \nL -3.5 0 \n\" id=\"m8d34dcd3dd\" style=\"stroke:#000000;stroke-width:0.8;\"/>\n      </defs>\n      <g>\n       <use style=\"stroke:#000000;stroke-width:0.8;\" x=\"26.925\" xlink:href=\"#m8d34dcd3dd\" y=\"11.082857\"/>\n      </g>\n     </g>\n     <g id=\"text_7\">\n      <!-- 0 -->\n      <g transform=\"translate(13.5625 14.882076)scale(0.1 -0.1)\">\n       <use xlink:href=\"#DejaVuSans-48\"/>\n      </g>\n     </g>\n    </g>\n    <g id=\"ytick_2\">\n     <g id=\"line2d_8\">\n      <g>\n       <use style=\"stroke:#000000;stroke-width:0.8;\" x=\"26.925\" xlink:href=\"#m8d34dcd3dd\" y=\"49.911429\"/>\n      </g>\n     </g>\n     <g id=\"text_8\">\n      <!-- 5 -->\n      <g transform=\"translate(13.5625 53.710647)scale(0.1 -0.1)\">\n       <use xlink:href=\"#DejaVuSans-53\"/>\n      </g>\n     </g>\n    </g>\n    <g id=\"ytick_3\">\n     <g id=\"line2d_9\">\n      <g>\n       <use style=\"stroke:#000000;stroke-width:0.8;\" x=\"26.925\" xlink:href=\"#m8d34dcd3dd\" y=\"88.74\"/>\n      </g>\n     </g>\n     <g id=\"text_9\">\n      <!-- 10 -->\n      <g transform=\"translate(7.2 92.539219)scale(0.1 -0.1)\">\n       <use xlink:href=\"#DejaVuSans-49\"/>\n       <use x=\"63.623047\" xlink:href=\"#DejaVuSans-48\"/>\n      </g>\n     </g>\n    </g>\n    <g id=\"ytick_4\">\n     <g id=\"line2d_10\">\n      <g>\n       <use style=\"stroke:#000000;stroke-width:0.8;\" x=\"26.925\" xlink:href=\"#m8d34dcd3dd\" y=\"127.568571\"/>\n      </g>\n     </g>\n     <g id=\"text_10\">\n      <!-- 15 -->\n      <g transform=\"translate(7.2 131.36779)scale(0.1 -0.1)\">\n       <use xlink:href=\"#DejaVuSans-49\"/>\n       <use x=\"63.623047\" xlink:href=\"#DejaVuSans-53\"/>\n      </g>\n     </g>\n    </g>\n    <g id=\"ytick_5\">\n     <g id=\"line2d_11\">\n      <g>\n       <use style=\"stroke:#000000;stroke-width:0.8;\" x=\"26.925\" xlink:href=\"#m8d34dcd3dd\" y=\"166.397143\"/>\n      </g>\n     </g>\n     <g id=\"text_11\">\n      <!-- 20 -->\n      <g transform=\"translate(7.2 170.196362)scale(0.1 -0.1)\">\n       <use xlink:href=\"#DejaVuSans-50\"/>\n       <use x=\"63.623047\" xlink:href=\"#DejaVuSans-48\"/>\n      </g>\n     </g>\n    </g>\n    <g id=\"ytick_6\">\n     <g id=\"line2d_12\">\n      <g>\n       <use style=\"stroke:#000000;stroke-width:0.8;\" x=\"26.925\" xlink:href=\"#m8d34dcd3dd\" y=\"205.225714\"/>\n      </g>\n     </g>\n     <g id=\"text_12\">\n      <!-- 25 -->\n      <g transform=\"translate(7.2 209.024933)scale(0.1 -0.1)\">\n       <use xlink:href=\"#DejaVuSans-50\"/>\n       <use x=\"63.623047\" xlink:href=\"#DejaVuSans-53\"/>\n      </g>\n     </g>\n    </g>\n   </g>\n   <g id=\"patch_3\">\n    <path d=\"M 26.925 224.64 \nL 26.925 7.2 \n\" style=\"fill:none;stroke:#000000;stroke-linecap:square;stroke-linejoin:miter;stroke-width:0.8;\"/>\n   </g>\n   <g id=\"patch_4\">\n    <path d=\"M 244.365 224.64 \nL 244.365 7.2 \n\" style=\"fill:none;stroke:#000000;stroke-linecap:square;stroke-linejoin:miter;stroke-width:0.8;\"/>\n   </g>\n   <g id=\"patch_5\">\n    <path d=\"M 26.925 224.64 \nL 244.365 224.64 \n\" style=\"fill:none;stroke:#000000;stroke-linecap:square;stroke-linejoin:miter;stroke-width:0.8;\"/>\n   </g>\n   <g id=\"patch_6\">\n    <path d=\"M 26.925 7.2 \nL 244.365 7.2 \n\" style=\"fill:none;stroke:#000000;stroke-linecap:square;stroke-linejoin:miter;stroke-width:0.8;\"/>\n   </g>\n  </g>\n </g>\n <defs>\n  <clipPath id=\"p90e8f3befa\">\n   <rect height=\"217.44\" width=\"217.44\" x=\"26.925\" y=\"7.2\"/>\n  </clipPath>\n </defs>\n</svg>\n",
      "image/png": "[encoded data removed]"
     },
     "metadata": {
      "needs_background": "light"
     }
    }
   ],
   "source": [
    "import matplotlib.pyplot as plt\n",
    "plt.imshow(x_train[1],\"gray\")\n"
   ]
  },
  {
   "cell_type": "code",
   "execution_count": 6,
   "metadata": {},
   "outputs": [
    {
     "output_type": "stream",
     "name": "stdout",
     "text": [
      "(60000, 28, 28)\n"
     ]
    }
   ],
   "source": [
    "print(x_train.shape)"
   ]
  },
  {
   "cell_type": "code",
   "execution_count": 21,
   "metadata": {},
   "outputs": [
    {
     "output_type": "stream",
     "name": "stdout",
     "text": [
      "(28, 28)\n(60000,)\n"
     ]
    }
   ],
   "source": [
    "print(x_train[0].shape)\n",
    "print(y_train.shape)"
   ]
  },
  {
   "cell_type": "code",
   "execution_count": 8,
   "metadata": {},
   "outputs": [],
   "source": [
    "class_names = ['T-shirt/top', 'Trouser', 'Pullover', 'Dress', 'Coat',\n",
    "               'Sandal', 'Shirt', 'Sneaker', 'Bag', 'Ankle boot']"
   ]
  },
  {
   "cell_type": "code",
   "execution_count": 10,
   "metadata": {},
   "outputs": [
    {
     "output_type": "stream",
     "name": "stdout",
     "text": [
      "[9 2 1 ... 8 1 5]\n(10000,)\n"
     ]
    }
   ],
   "source": [
    "print(y_test)\n",
    "print(y_test.shape)"
   ]
  },
  {
   "cell_type": "code",
   "execution_count": 11,
   "metadata": {},
   "outputs": [],
   "source": [
    "x_train=x_train/255\n",
    "x_test=x_test/255"
   ]
  },
  {
   "cell_type": "code",
   "execution_count": 12,
   "metadata": {},
   "outputs": [],
   "source": [
    "mooodle = tf.keras.Sequential([tf.keras.layers.Flatten(input_shape=(28,28)) ,\n",
    "                               tf.keras.layers.Dense(128 , \n",
    "                               activation='relu'),\n",
    "                               tf.keras.layers.Dense(10,activation='softmax')])"
   ]
  },
  {
   "cell_type": "code",
   "execution_count": 13,
   "metadata": {},
   "outputs": [],
   "source": [
    "mooodle.compile(optimizer='adam',\n",
    "                loss=tf.keras.losses.SparseCategoricalCrossentropy(from_logits=True),\n",
    "                metrics=['accuracy'])"
   ]
  },
  {
   "cell_type": "code",
   "execution_count": 15,
   "metadata": {},
   "outputs": [
    {
     "output_type": "stream",
     "name": "stdout",
     "text": [
      "Epoch 1/20\n",
      "1875/1875 [==============================] - 1s 702us/step - loss: 0.2323 - accuracy: 0.9133\n",
      "Epoch 2/20\n",
      "1875/1875 [==============================] - 1s 682us/step - loss: 0.2232 - accuracy: 0.9163\n",
      "Epoch 3/20\n",
      "1875/1875 [==============================] - 1s 686us/step - loss: 0.2180 - accuracy: 0.9176\n",
      "Epoch 4/20\n",
      "1875/1875 [==============================] - 1s 690us/step - loss: 0.2100 - accuracy: 0.9215\n",
      "Epoch 5/20\n",
      "1875/1875 [==============================] - 1s 692us/step - loss: 0.2048 - accuracy: 0.9237\n",
      "Epoch 6/20\n",
      "1875/1875 [==============================] - 1s 690us/step - loss: 0.1986 - accuracy: 0.9251\n",
      "Epoch 7/20\n",
      "1875/1875 [==============================] - 1s 684us/step - loss: 0.1936 - accuracy: 0.9269\n",
      "Epoch 8/20\n",
      "1875/1875 [==============================] - 1s 694us/step - loss: 0.1880 - accuracy: 0.9296\n",
      "Epoch 9/20\n",
      "1875/1875 [==============================] - 1s 690us/step - loss: 0.1834 - accuracy: 0.9317\n",
      "Epoch 10/20\n",
      "1875/1875 [==============================] - 1s 703us/step - loss: 0.1796 - accuracy: 0.9333\n",
      "Epoch 11/20\n",
      "1875/1875 [==============================] - 1s 696us/step - loss: 0.1730 - accuracy: 0.9348\n",
      "Epoch 12/20\n",
      "1875/1875 [==============================] - 1s 705us/step - loss: 0.1700 - accuracy: 0.9361\n",
      "Epoch 13/20\n",
      "1875/1875 [==============================] - 1s 704us/step - loss: 0.1647 - accuracy: 0.9391\n",
      "Epoch 14/20\n",
      "1875/1875 [==============================] - 1s 704us/step - loss: 0.1630 - accuracy: 0.9387\n",
      "Epoch 15/20\n",
      "1875/1875 [==============================] - 1s 711us/step - loss: 0.1572 - accuracy: 0.9422\n",
      "Epoch 16/20\n",
      "1875/1875 [==============================] - 1s 707us/step - loss: 0.1533 - accuracy: 0.9423\n",
      "Epoch 17/20\n",
      "1875/1875 [==============================] - 1s 792us/step - loss: 0.1499 - accuracy: 0.9436\n",
      "Epoch 18/20\n",
      "1875/1875 [==============================] - 1s 764us/step - loss: 0.1464 - accuracy: 0.9454\n",
      "Epoch 19/20\n",
      "1875/1875 [==============================] - 1s 761us/step - loss: 0.1433 - accuracy: 0.9456\n",
      "Epoch 20/20\n",
      "1875/1875 [==============================] - 1s 737us/step - loss: 0.1407 - accuracy: 0.9470\n"
     ]
    },
    {
     "output_type": "execute_result",
     "data": {
      "text/plain": [
       "<tensorflow.python.keras.callbacks.History at 0x7f81a8980070>"
      ]
     },
     "metadata": {},
     "execution_count": 15
    }
   ],
   "source": [
    "mooodle.fit(x_train , y_train , epochs=20)"
   ]
  },
  {
   "cell_type": "code",
   "execution_count": 16,
   "metadata": {},
   "outputs": [
    {
     "output_type": "stream",
     "name": "stdout",
     "text": [
      "313/313 - 0s - loss: 0.4076 - accuracy: 0.8878\n",
      "0.4075676202774048 0.8877999782562256\n"
     ]
    }
   ],
   "source": [
    "loss_test , acc_test = mooodle.evaluate(x_test,y_test , verbose=2)\n",
    "print(loss_test , acc_test)"
   ]
  },
  {
   "cell_type": "code",
   "execution_count": 17,
   "metadata": {},
   "outputs": [],
   "source": [
    "probability_model = tf.keras.Sequential([mooodle,tf.keras.layers.Softmax()])\n",
    "predictions = probability_model.predict(x_test)\n"
   ]
  },
  {
   "cell_type": "code",
   "execution_count": 18,
   "metadata": {},
   "outputs": [
    {
     "output_type": "execute_result",
     "data": {
      "text/plain": [
       "array([0.08534195, 0.08534195, 0.08534195, 0.08534195, 0.08534195,\n",
       "       0.08534233, 0.08534195, 0.08537716, 0.08534195, 0.23188683],\n",
       "      dtype=float32)"
      ]
     },
     "metadata": {},
     "execution_count": 18
    }
   ],
   "source": [
    "predictions[0]"
   ]
  },
  {
   "cell_type": "code",
   "execution_count": 19,
   "metadata": {},
   "outputs": [
    {
     "output_type": "execute_result",
     "data": {
      "text/plain": [
       "9"
      ]
     },
     "metadata": {},
     "execution_count": 19
    }
   ],
   "source": [
    "import numpy as np\n",
    "np.argmax(predictions[0])"
   ]
  },
  {
   "cell_type": "code",
   "execution_count": 20,
   "metadata": {},
   "outputs": [
    {
     "output_type": "execute_result",
     "data": {
      "text/plain": [
       "9"
      ]
     },
     "metadata": {},
     "execution_count": 20
    }
   ],
   "source": [
    "y_test[0]"
   ]
  },
  {
   "cell_type": "code",
   "execution_count": null,
   "metadata": {},
   "outputs": [],
   "source": []
  }
 ]
}