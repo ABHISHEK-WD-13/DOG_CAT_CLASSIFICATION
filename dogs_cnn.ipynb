{
 "metadata": {
  "language_info": {
   "codemirror_mode": {
    "name": "ipython",
    "version": 3
   },
   "file_extension": ".py",
   "mimetype": "text/x-python",
   "name": "python",
   "nbconvert_exporter": "python",
   "pygments_lexer": "ipython3",
   "version": "3.8.5-final"
  },
  "orig_nbformat": 2,
  "kernelspec": {
   "name": "python3",
   "display_name": "Python 3",
   "language": "python"
  }
 },
 "nbformat": 4,
 "nbformat_minor": 2,
 "cells": [
  {
   "cell_type": "code",
   "execution_count": 1,
   "metadata": {},
   "outputs": [],
   "source": [
    "import numpy as np \n",
    "import matplotlib.pyplot as plt\n",
    "import tensorflow as tf\n",
    "import os\n",
    "import cv2"
   ]
  },
  {
   "cell_type": "code",
   "execution_count": 2,
   "metadata": {},
   "outputs": [
    {
     "output_type": "stream",
     "name": "stdout",
     "text": [
      "cats\n",
      "dogs\n"
     ]
    }
   ],
   "source": [
    "image_size=64\n",
    "dir = \"archive/dataset/training_set/\"  \n",
    "catagories = [\"cats\" , \"dogs\"]\n",
    "train_data = []\n",
    "for categ in catagories:\n",
    " print(categ) \n",
    " try:\n",
    "     path = os.path.join(dir , categ)  \n",
    "     class_name = catagories.index(categ)\n",
    "     for img in os.listdir(path):\n",
    "          img_array = cv2.imread(os.path.join(path, img), cv2.IMREAD_COLOR)\n",
    "          new_array = cv2.resize(img_array , (image_size , image_size))\n",
    "          train_data.append([new_array , class_name])\n",
    " except Exception as e:\n",
    "     pass\n",
    "    "
   ]
  },
  {
   "cell_type": "code",
   "execution_count": 3,
   "metadata": {},
   "outputs": [],
   "source": [
    "import random\n",
    "random.shuffle(train_data)\n",
    "# print(train_data[1][0])\n",
    "x_train = np.zeros((len(train_data),64,64,3))\n",
    "y_train = np.ndarray((len(train_data),) , int)\n",
    "for i in range(len(train_data)):\n",
    "    x_train[i]=train_data[i][0]\n",
    "    y_train[i]=train_data[i][1]\n"
   ]
  },
  {
   "cell_type": "code",
   "execution_count": 4,
   "metadata": {},
   "outputs": [],
   "source": [
    "x_train = x_train/255\n",
    "dir_test = \"archive/dataset/test_set/\"\n",
    "catagorie = [\"cats\" , \"dogs\"]\n",
    "test_data = []\n",
    "for c in catagorie:\n",
    " try:\n",
    "     path_test = os.path.join(dir_test , c)  \n",
    "     class_name_test = catagorie.index(c)\n",
    "     for img_test in os.listdir(path_test):\n",
    "          img_array_test = cv2.imread(os.path.join(path_test, img_test) , cv2.IMREAD_COLOR)\n",
    "          new_array_test = cv2.resize(img_array_test , (image_size , image_size))\n",
    "          test_data.append([new_array_test , class_name_test])\n",
    " except Exception as e_test:\n",
    "     pass\n",
    "\n",
    "random.shuffle(test_data)\n",
    "x_test = np.zeros((len(test_data),64,64,3))\n",
    "y_test = np.ndarray((len(test_data),) , int)\n",
    "for i in range(len(test_data)):\n",
    "    x_test[i]=test_data[i][0]\n",
    "    y_test[i]=test_data[i][1]\n",
    "x_test = x_test/255\n"
   ]
  },
  {
   "cell_type": "code",
   "execution_count": 5,
   "metadata": {},
   "outputs": [],
   "source": [
    "from tensorflow import keras"
   ]
  },
  {
   "cell_type": "code",
   "execution_count": 6,
   "metadata": {},
   "outputs": [],
   "source": [
    "model = tf.keras.Sequential([tf.keras.layers.Conv2D(16 , (3,3) ,activation='relu', input_shape=(64,64,3)) ,\n",
    "                             tf.keras.layers.MaxPool2D((2,2)),\n",
    "                             tf.keras.layers.Conv2D(32,(3,3) ,activation='relu' ),\n",
    "                             tf.keras.layers.MaxPool2D((2,2)),\n",
    "                             tf.keras.layers.Conv2D(64 , (3,3) , activation='relu'),\n",
    "                             tf.keras.layers.Flatten(),\n",
    "                             tf.keras.layers.Dense(64 , activation='relu',kernel_regularizer=tf.keras.regularizers.L2(0.0001)),\n",
    "                             tf.keras.layers.Dense(1 , activation='sigmoid')])"
   ]
  },
  {
   "cell_type": "code",
   "execution_count": 7,
   "metadata": {},
   "outputs": [],
   "source": [
    "model.compile(optimizer='adam',\n",
    "                loss=tf.keras.losses.BinaryCrossentropy(from_logits=True),\n",
    "                metrics=['accuracy'])"
   ]
  },
  {
   "cell_type": "code",
   "execution_count": 15,
   "metadata": {},
   "outputs": [
    {
     "output_type": "stream",
     "name": "stdout",
     "text": [
      "Epoch 1/10\n",
      "719/719 [==============================] - 25s 35ms/step - loss: 0.0982 - accuracy: 0.9807\n",
      "Epoch 2/10\n",
      "719/719 [==============================] - 26s 36ms/step - loss: 0.0922 - accuracy: 0.9840\n",
      "Epoch 3/10\n",
      "719/719 [==============================] - 26s 36ms/step - loss: 0.0905 - accuracy: 0.9842\n",
      "Epoch 4/10\n",
      "719/719 [==============================] - 27s 37ms/step - loss: 0.0879 - accuracy: 0.9848\n",
      "Epoch 5/10\n",
      "719/719 [==============================] - 26s 37ms/step - loss: 0.0920 - accuracy: 0.9839\n",
      "Epoch 6/10\n",
      "719/719 [==============================] - 26s 37ms/step - loss: 0.0849 - accuracy: 0.9862\n",
      "Epoch 7/10\n",
      "719/719 [==============================] - 27s 37ms/step - loss: 0.0836 - accuracy: 0.9863\n",
      "Epoch 8/10\n",
      "719/719 [==============================] - 27s 37ms/step - loss: 0.0804 - accuracy: 0.9881\n",
      "Epoch 9/10\n",
      "719/719 [==============================] - 26s 37ms/step - loss: 0.0916 - accuracy: 0.9840\n",
      "Epoch 10/10\n",
      "719/719 [==============================] - 26s 36ms/step - loss: 0.0825 - accuracy: 0.9878\n"
     ]
    },
    {
     "output_type": "execute_result",
     "data": {
      "text/plain": [
       "<tensorflow.python.keras.callbacks.History at 0x7fa9d00d6190>"
      ]
     },
     "metadata": {},
     "execution_count": 15
    }
   ],
   "source": [
    "model.fit(x_train , y_train , epochs=10)"
   ]
  },
  {
   "cell_type": "code",
   "execution_count": 16,
   "metadata": {},
   "outputs": [
    {
     "output_type": "stream",
     "name": "stdout",
     "text": [
      "63/63 - 0s - loss: 0.7914 - accuracy: 0.8310\n"
     ]
    }
   ],
   "source": [
    "loss_test , acc_test = model.evaluate(x_test,y_test , verbose=2)\n"
   ]
  },
  {
   "cell_type": "code",
   "execution_count": 17,
   "metadata": {},
   "outputs": [
    {
     "output_type": "stream",
     "name": "stdout",
     "text": [
      "(1, 64, 64, 3)\n[[1.]]\n"
     ]
    }
   ],
   "source": [
    "# probability_model = tf.keras.Sequential([model,tf.keras.layers.Sigmoi])\n",
    "test_image = cv2.imread(\"./test_image.jpg\" , cv2.IMREAD_COLOR)\n",
    "test_image_small = cv2.resize(test_image , (64 , 64))\n",
    "test = np.array([test_image_small,])\n",
    "print(test.shape)\n",
    "prediction = model.predict(test)\n",
    "print(prediction)"
   ]
  },
  {
   "cell_type": "code",
   "execution_count": null,
   "metadata": {},
   "outputs": [],
   "source": []
  }
 ]
}